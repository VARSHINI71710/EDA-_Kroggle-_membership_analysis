{
  "cells": [
    {
      "cell_type": "code",
      "execution_count": 1,
      "metadata": {
        "id": "XrsQlYUQObdg"
      },
      "outputs": [],
      "source": [
        "import pandas as pd\n",
        "import numpy as np\n",
        "import matplotlib.pyplot as plt\n",
        "import seaborn as sns"
      ]
    },
    {
      "cell_type": "markdown",
      "metadata": {
        "id": "OnXlmn4jXdX4"
      },
      "source": [
        "Part 1 – Basic Data Understanding (Pandas)"
      ]
    },
    {
      "cell_type": "code",
      "execution_count": null,
      "metadata": {
        "colab": {
          "base_uri": "https://localhost:8080/"
        },
        "id": "JzgF7e9KP54k",
        "outputId": "6d20fe9b-23d0-4900-fe9f-65e7e904e587"
      },
      "outputs": [
        {
          "name": "stdout",
          "output_type": "stream",
          "text": [
            "Head:\n",
            "    kroger_id has_member_card\n",
            "0          1               Y\n",
            "1          2               Y\n",
            "2          3             NaN\n",
            "3          4               Y\n",
            "4          5             NaN\n",
            "5          6               Y\n",
            "6          7             NaN\n",
            "7          8               Y\n",
            "8          9               Y\n",
            "9         10               Y\n",
            "\n",
            "Shape: (100, 2)\n",
            "\n",
            "Column Names: Index(['kroger_id', 'has_member_card'], dtype='object')\n",
            "\n",
            "Data Types:\n",
            " kroger_id           int64\n",
            "has_member_card    object\n",
            "dtype: object\n",
            "\n",
            "Null values:\n",
            " kroger_id           0\n",
            "has_member_card    37\n",
            "dtype: int64\n",
            "\n",
            "Duplicated rows: 0\n",
            "\n",
            "Has member card counts:\n",
            " has_member_card\n",
            "Y    63\n",
            "Name: count, dtype: int64\n",
            "\n",
            "Null values again:\n",
            " kroger_id           0\n",
            "has_member_card    37\n",
            "dtype: int64\n",
            "    kroger_id has_member_card\n",
            "95         96               Y\n",
            "96         97             NaN\n",
            "97         98               Y\n",
            "98         99             NaN\n",
            "99        100             NaN\n"
          ]
        }
      ],
      "source": [
        "df = pd.read_csv(\"C:/Users/varsh/Downloads/kroger_members.csv\")\n",
        "\n",
        "print(\"Head:\\n\", df.head(10))\n",
        "print(\"\\nShape:\", df.shape)\n",
        "print(\"\\nColumn Names:\",df.columns)\n",
        "print(\"\\nData Types:\\n\", df.dtypes)\n",
        "print(\"\\nNull values:\\n\", df.isnull().sum())\n",
        "print(\"\\nDuplicated rows:\", df.duplicated().sum())\n",
        "print(\"\\nHas member card counts:\\n\", df[\"has_member_card\"].value_counts())\n",
        "print(\"\\nNull values again:\\n\", df.isnull().sum())"
      ]
    },
    {
      "cell_type": "markdown",
      "metadata": {
        "id": "Th5A_ia_XsCH"
      },
      "source": [
        "Part 2 – Data Cleaning"
      ]
    },
    {
      "cell_type": "code",
      "execution_count": 7,
      "metadata": {
        "colab": {
          "base_uri": "https://localhost:8080/"
        },
        "id": "qLVhFhf5U6AT",
        "outputId": "b655ed9e-5630-4b58-a20a-95d6dd2f3531"
      },
      "outputs": [
        {
          "name": "stdout",
          "output_type": "stream",
          "text": [
            "No negative or invalid kroger id found.\n"
          ]
        }
      ],
      "source": [
        "df[\"has_member_card\"] = df[\"has_member_card\"].replace(0, \"N\")  #Standardize has_member_card values so that:'Y' stays as 'Y',Missing values become 'N'\n",
        "\n",
        "df[\"kroger_id\"] = df[\"kroger_id\"].astype(int)        #Ensure all kroger_id values are integers and unique.\n",
        "df = df.drop_duplicates(subset=\"kroger_id\")\n",
        "\n",
        "invalid_IDs = df[df[\"kroger_id\"] < 0]\n",
        "\n",
        "if not invalid_IDs.empty:\n",
        "    print(\"Invalid kroger id found:\")                     #Check for any negative or invalid IDs.\n",
        "    print(invalid_IDs)\n",
        "else:\n",
        "    print(\"No negative or invalid kroger id found.\")\n",
        "\n",
        "df = df.reset_index(drop=True)             #Reset DataFrame index after cleaning.\n"
      ]
    },
    {
      "cell_type": "markdown",
      "metadata": {
        "id": "bYeZKKmddUqN"
      },
      "source": [
        "Part 3 – Exploratory Data Analysis (EDA)"
      ]
    },
    {
      "cell_type": "code",
      "execution_count": 14,
      "metadata": {
        "colab": {
          "base_uri": "https://localhost:8080/",
          "height": 712
        },
        "id": "Cn_yRXozZ79M",
        "outputId": "d71dd38a-bfca-4b49-d5be-311a4a673084"
      },
      "outputs": [
        {
          "name": "stdout",
          "output_type": "stream",
          "text": [
            "Total number of customers: 100\n",
            "Total Members: 63\n",
            "Total Non-members: 37\n"
          ]
        }
      ],
      "source": [
        "total_customers = df['kroger_id'].nunique()\n",
        "print(\"Total number of customers:\", total_customers)\n",
        "\n",
        "df[\"has_member_card\"] = df[\"has_member_card\"].replace('Y',1) \n",
        "df[\"has_member_card\"] = df[\"has_member_card\"].replace(np.nan, 0)\n",
        "\n",
        "members = (df[\"has_member_card\"] == 1).sum()\n",
        "non_members = (df[\"has_member_card\"] == 0).sum()\n",
        "\n",
        "print(\"Total Members:\", members)\n",
        "print(\"Total Non-members:\", non_members)\n",
        "\n",
        "\n"
      ]
    },
    {
      "cell_type": "code",
      "execution_count": 20,
      "metadata": {},
      "outputs": [
        {
          "data": {
            "image/png": "[encoded data removed]",
            "text/plain": [
              "<Figure size 640x480 with 1 Axes>"
            ]
          },
          "metadata": {},
          "output_type": "display_data"
        }
      ],
      "source": [
        "plt.pie([members, non_members], labels=['Members', 'Non-members'], autopct='%1.1f%%', colors=['blue', 'green'] )\n",
        "plt.title(\"Members vs Non-members\")\n",
        "plt.show()"
      ]
    },
    {
      "cell_type": "code",
      "execution_count": 21,
      "metadata": {},
      "outputs": [
        {
          "data": {
            "image/png": "[encoded data removed]",
            "text/plain": [
              "<Figure size 640x480 with 1 Axes>"
            ]
          },
          "metadata": {},
          "output_type": "display_data"
        }
      ],
      "source": [
        "plt.bar(['Members', 'Non-members'],[members, non_members] , color=['green', 'blue'])\n",
        "plt.title(\"Members vs Non-members\")\n",
        "plt.ylabel(\"Number of Customers\")\n",
        "plt.show()\n"
      ]
    },
    {
      "cell_type": "markdown",
      "metadata": {
        "id": "zAkBII8Oledw"
      },
      "source": [
        "Part 4 – Statistics"
      ]
    },
    {
      "cell_type": "code",
      "execution_count": 22,
      "metadata": {
        "colab": {
          "base_uri": "https://localhost:8080/"
        },
        "id": "hgAtDkjGkQhr",
        "outputId": "704b31f9-148b-447c-ff86-628c84ce291c"
      },
      "outputs": [
        {
          "name": "stdout",
          "output_type": "stream",
          "text": [
            "Mean= 0.63\n",
            "Median= 1.0\n",
            "mode= 1.0\n",
            "prob of yes= 0.63\n",
            "prob of no= 0.37\n"
          ]
        }
      ],
      "source": [
        "\n",
        "\n",
        "print(\"Mean=\",np.mean(df[\"has_member_card\"]))\n",
        "print(\"Median=\",np.median(df['has_member_card']))\n",
        "print(\"mode=\",df['has_member_card'].mode()[0])\n",
        "\n",
        "print(\"prob of yes=\",df[\"has_member_card\"].mean())\n",
        "print(\"prob of no=\",1-df[\"has_member_card\"].mean())"
      ]
    },
    {
      "cell_type": "markdown",
      "metadata": {
        "id": "R0Veh0DcpO_w"
      },
      "source": [
        "Part 5 – Linear Algebra & NumPy\n"
      ]
    },
    {
      "cell_type": "code",
      "execution_count": 12,
      "metadata": {
        "colab": {
          "base_uri": "https://localhost:8080/"
        },
        "id": "1A-WFdN3lqcs",
        "outputId": "fb932132-499b-4658-94ab-6c810413fc09"
      },
      "outputs": [
        {
          "name": "stdout",
          "output_type": "stream",
          "text": [
            "[1. 1. 0. 1. 0. 1. 0. 1. 1. 1. 0. 0. 1. 0. 0. 1. 0. 1. 1. 0. 1. 0. 1. 1.\n",
            " 0. 1. 0. 1. 0. 1. 0. 1. 1. 1. 1. 1. 0. 0. 0. 1. 1. 1. 0. 1. 0. 1. 0. 1.\n",
            " 1. 1. 1. 0. 1. 1. 1. 1. 0. 0. 1. 1. 1. 1. 1. 1. 1. 1. 1. 1. 1. 0. 0. 0.\n",
            " 1. 1. 0. 0. 0. 1. 1. 1. 0. 1. 1. 1. 0. 0. 1. 1. 1. 0. 0. 1. 1. 1. 1. 1.\n",
            " 0. 1. 0. 0.]\n",
            "[ 45  48  65  68  68  10  84  22  37  88  71  89  89  13  59  66  40  88\n",
            "  47  89  82  38  26  78  73  10  21  81  70  80  48  65  83 100  89  50\n",
            "  30  20  20  15  40  33  66  10  58  33  32  75  24  36  76  56  29  35\n",
            "   1   1  37  54   6  39  18  80   5  43  59  32   2  66  42  58  36  12\n",
            "  47  83  92   1  15 100  54  13  43  85  76  69   7  69  48   4  77  53\n",
            "  79  16  21 100  59  24  80  14  86  49]\n",
            "[ 46.  49.  65.  69.  68.  11.  84.  23.  38.  89.  71.  89.  90.  13.\n",
            "  59.  67.  40.  89.  48.  89.  83.  38.  27.  79.  73.  11.  21.  82.\n",
            "  70.  81.  48.  66.  84. 101.  90.  51.  30.  20.  20.  16.  41.  34.\n",
            "  66.  11.  58.  34.  32.  76.  25.  37.  77.  56.  30.  36.   2.   2.\n",
            "  37.  54.   7.  40.  19.  81.   6.  44.  60.  33.   3.  67.  43.  58.\n",
            "  36.  12.  48.  84.  92.   1.  15. 101.  55.  14.  43.  86.  77.  70.\n",
            "   7.  69.  49.   5.  78.  53.  79.  17.  22. 101.  60.  25.  80.  15.\n",
            "  86.  49.]\n",
            "3042.0\n",
            "[[  1.   1.   0.   1.   0.   1.   0.   1.   1.   1.   0.   0.   1.   0.\n",
            "    0.   1.   0.   1.   1.   0.   1.   0.   1.   1.   0.   1.   0.   1.\n",
            "    0.   1.   0.   1.   1.   1.   1.   1.   0.   0.   0.   1.   1.   1.\n",
            "    0.   1.   0.   1.   0.   1.   1.   1.   1.   0.   1.   1.   1.   1.\n",
            "    0.   0.   1.   1.   1.   1.   1.   1.   1.   1.   1.   1.   1.   0.\n",
            "    0.   0.   1.   1.   0.   0.   0.   1.   1.   1.   0.   1.   1.   1.\n",
            "    0.   0.   1.   1.   1.   0.   0.   1.   1.   1.   1.   1.   0.   1.\n",
            "    0.   0.]\n",
            " [ 45.  48.  65.  68.  68.  10.  84.  22.  37.  88.  71.  89.  89.  13.\n",
            "   59.  66.  40.  88.  47.  89.  82.  38.  26.  78.  73.  10.  21.  81.\n",
            "   70.  80.  48.  65.  83. 100.  89.  50.  30.  20.  20.  15.  40.  33.\n",
            "   66.  10.  58.  33.  32.  75.  24.  36.  76.  56.  29.  35.   1.   1.\n",
            "   37.  54.   6.  39.  18.  80.   5.  43.  59.  32.   2.  66.  42.  58.\n",
            "   36.  12.  47.  83.  92.   1.  15. 100.  54.  13.  43.  85.  76.  69.\n",
            "    7.  69.  48.   4.  77.  53.  79.  16.  21. 100.  59.  24.  80.  14.\n",
            "   86.  49.]]\n",
            "[23.  24.5 32.5 34.5 34.   5.5 42.  11.5 19.  44.5 35.5 44.5 45.   6.5\n",
            " 29.5 33.5 20.  44.5 24.  44.5 41.5 19.  13.5 39.5 36.5  5.5 10.5 41.\n",
            " 35.  40.5 24.  33.  42.  50.5 45.  25.5 15.  10.  10.   8.  20.5 17.\n",
            " 33.   5.5 29.  17.  16.  38.  12.5 18.5 38.5 28.  15.  18.   1.   1.\n",
            " 18.5 27.   3.5 20.   9.5 40.5  3.  22.  30.  16.5  1.5 33.5 21.5 29.\n",
            " 18.   6.  24.  42.  46.   0.5  7.5 50.5 27.5  7.  21.5 43.  38.5 35.\n",
            "  3.5 34.5 24.5  2.5 39.  26.5 39.5  8.5 11.  50.5 30.  12.5 40.   7.5\n",
            " 43.  24.5]\n"
          ]
        }
      ],
      "source": [
        "bin_array=df[\"has_member_card\"].values\n",
        "print(bin_array)\n",
        "\n",
        "n=bin_array.size\n",
        "spendscore=np.random.seed(0)\n",
        "spendscore=np.random.randint(1,101,n)\n",
        "print(spendscore)\n",
        "\n",
        "add=np.add(bin_array,spendscore)\n",
        "print(add)\n",
        "\n",
        "dot=np.dot(bin_array,spendscore)\n",
        "print(dot)\n",
        "\n",
        "bin_array=np.array(bin_array)\n",
        "spendscore=np.array(spendscore)\n",
        "new=np.vstack((bin_array,spendscore))\n",
        "print(new)\n",
        "weights=np.array([0.5,0.5])\n",
        "\n",
        "matmul=weights @ new # as per the mul rule to mul weight comes first\n",
        "print(matmul)"
      ]
    },
    {
      "cell_type": "markdown",
      "metadata": {
        "id": "xn5-c7Rat1nA"
      },
      "source": [
        "Part 6 – Feature Engineering\n"
      ]
    },
    {
      "cell_type": "code",
      "execution_count": 23,
      "metadata": {
        "colab": {
          "base_uri": "https://localhost:8080/"
        },
        "id": "lK3G7iU2q_ZB",
        "outputId": "7409f9a6-3b44-4d7c-8907-cc50bee17660"
      },
      "outputs": [
        {
          "name": "stdout",
          "output_type": "stream",
          "text": [
            "   kroger_id has_member_card  Is_Member  Monthly_Spend  Discount_Eligible\n",
            "0          1               Y          1            222                  1\n",
            "1          2               Y          1             97                  0\n",
            "2          3               N          0            167                  0\n",
            "3          4               Y          1            242                  1\n",
            "4          5               N          0            373                  0\n",
            "Q1= 153.5\n",
            "Q2= 252.5\n",
            "Q3= 383.5\n",
            "Q4= 499.0\n"
          ]
        }
      ],
      "source": [
        "df[\"has_member_card\"]=df[\"has_member_card\"].replace(0,\"N\")\n",
        "df[\"has_member_card\"]=df[\"has_member_card\"].replace(1,\"Y\")\n",
        "df.head()\n",
        "df[\"Is_Member\"]=df[\"has_member_card\"].apply(lambda x: 1 if x==\"Y\" else 0)\n",
        "df[\"Monthly_Spend\"]=np.random.seed(0)\n",
        "df[\"Monthly_Spend\"]=np.random.randint(50,500,100)\n",
        "\n",
        "df[\"Discount_Eligible\"]=(df[\"Is_Member\"].apply(lambda x: 1 if x==1 else 0) & df[\"Monthly_Spend\"].apply(lambda x: 1 if x>200 else 0) )\n",
        "print(df.head())\n",
        "\n",
        "q1=df[\"Monthly_Spend\"].quantile(0.25)\n",
        "q2=df[\"Monthly_Spend\"].quantile(0.50)\n",
        "q3=df[\"Monthly_Spend\"].quantile(0.75)\n",
        "q4=df[\"Monthly_Spend\"].quantile(1.0)\n",
        "print(\"Q1=\",q1)\n",
        "print(\"Q2=\",q2)\n",
        "print(\"Q3=\",q3)\n",
        "print(\"Q4=\",q4)"
      ]
    },
    {
      "cell_type": "markdown",
      "metadata": {
        "id": "EXonnjWmxsYw"
      },
      "source": [
        "Part 7 – SQL Simulation in Pandas"
      ]
    },
    {
      "cell_type": "code",
      "execution_count": 24,
      "metadata": {
        "colab": {
          "base_uri": "https://localhost:8080/"
        },
        "id": "sVRePOQ2vKsw",
        "outputId": "93af3c53-560c-4c6f-9cf9-a84a23f3b84f"
      },
      "outputs": [
        {
          "name": "stdout",
          "output_type": "stream",
          "text": [
            "    kroger_id has_member_card  Is_Member  Monthly_Spend  Discount_Eligible\n",
            "5           6               Y          1            301                  1\n",
            "7           8               Y          1            409                  1\n",
            "12         13               Y          1            342                  1\n",
            "17         18               Y          1            364                  1\n",
            "23         24               Y          1            387                  1\n",
            "29         30               Y          1            454                  1\n",
            "33         34               Y          1            385                  1\n",
            "34         35               Y          1            481                  1\n",
            "35         36               Y          1            498                  1\n",
            "40         41               Y          1            335                  1\n",
            "43         44               Y          1            448                  1\n",
            "45         46               Y          1            338                  1\n",
            "47         48               Y          1            315                  1\n",
            "59         60               Y          1            340                  1\n",
            "62         63               Y          1            470                  1\n",
            "64         65               Y          1            439                  1\n",
            "67         68               Y          1            323                  1\n",
            "68         69               Y          1            385                  1\n",
            "72         73               Y          1            492                  1\n",
            "77         78               Y          1            475                  1\n",
            "79         80               Y          1            341                  1\n",
            "82         83               Y          1            317                  1\n",
            "83         84               Y          1            480                  1\n",
            "86         87               Y          1            434                  1\n",
            "87         88               Y          1            448                  1\n",
            "92         93               Y          1            476                  1\n",
            "95         96               Y          1            374                  1\n"
          ]
        }
      ],
      "source": [
        "selecteddf=df[(df[\"Is_Member\"]==1) & (df[\"Monthly_Spend\"]>300)]\n",
        "print(selecteddf)\n"
      ]
    },
    {
      "cell_type": "code",
      "execution_count": null,
      "metadata": {
        "colab": {
          "base_uri": "https://localhost:8080/"
        },
        "id": "nPXMPffA3-ih",
        "outputId": "048943f2-910f-4081-906d-58d8b7060331"
      },
      "outputs": [
        {
          "name": "stdout",
          "output_type": "stream",
          "text": [
            "    kroger_id has_member_card  Is_Member  Monthly_Spend  Discount_Eligible\n",
            "35         36               Y          1            498                  1\n",
            "72         73               Y          1            492                  1\n",
            "34         35               Y          1            481                  1\n",
            "83         84               Y          1            480                  1\n",
            "92         93               Y          1            476                  1\n",
            "77         78               Y          1            475                  1\n",
            "62         63               Y          1            470                  1\n",
            "29         30               Y          1            454                  1\n",
            "43         44               Y          1            448                  1\n",
            "87         88               Y          1            448                  1\n"
          ]
        }
      ],
      "source": [
        "top_10_spenders=df[df[\"Is_Member\"] == 1].sort_values(by=\"Monthly_Spend\", ascending=False).head(10)\n",
        "print(top_10_spenders)\n"
      ]
    },
    {
      "cell_type": "code",
      "execution_count": 25,
      "metadata": {
        "colab": {
          "base_uri": "https://localhost:8080/"
        },
        "id": "qsG-_O9w0yFs",
        "outputId": "b51d422b-5628-4a69-ad19-b3b4b1b09622"
      },
      "outputs": [
        {
          "name": "stdout",
          "output_type": "stream",
          "text": [
            "None\n"
          ]
        }
      ],
      "source": [
        "sorted_df=df.sort_values(by=[\"Monthly_Spend\", \"kroger_id\"], ascending=[False, True],inplace =True)\n",
        "print(sorted_df)"
      ]
    },
    {
      "cell_type": "code",
      "execution_count": 26,
      "metadata": {
        "colab": {
          "base_uri": "https://localhost:8080/"
        },
        "id": "ZdoZcdMC1etP",
        "outputId": "65f241b3-5e68-4e87-cd6b-e77820cf83f1"
      },
      "outputs": [
        {
          "name": "stdout",
          "output_type": "stream",
          "text": [
            "Discount_Eligible\n",
            "0    59\n",
            "1    41\n",
            "Name: count, dtype: int64\n"
          ]
        }
      ],
      "source": [
        "counts = df[\"Discount_Eligible\"].value_counts()\n",
        "print(counts)\n"
      ]
    },
    {
      "cell_type": "markdown",
      "metadata": {
        "id": "jWainaZ94NGM"
      },
      "source": [
        "Part 8 – Insights"
      ]
    },
    {
      "cell_type": "code",
      "execution_count": 27,
      "metadata": {
        "colab": {
          "base_uri": "https://localhost:8080/"
        },
        "id": "6E1_i4eN4K8b",
        "outputId": "02d0f2ed-29b3-49f4-b98e-08dcb3b5e941"
      },
      "outputs": [
        {
          "name": "stdout",
          "output_type": "stream",
          "text": [
            "Percentage of members: 63.00%\n"
          ]
        }
      ],
      "source": [
        "percent=total_customers = len(df)\n",
        "member_count = (df[\"Is_Member\"] == 1).sum()\n",
        "\n",
        "percentage_members = (member_count / total_customers) * 100\n",
        "print(f\"Percentage of members: {percentage_members:.2f}%\")\n"
      ]
    },
    {
      "cell_type": "code",
      "execution_count": null,
      "metadata": {
        "colab": {
          "base_uri": "https://localhost:8080/"
        },
        "id": "pLK7K5pi44jQ",
        "outputId": "f4c03765-11c2-4f0e-b8d9-2b404ccd8304"
      },
      "outputs": [
        {
          "name": "stdout",
          "output_type": "stream",
          "text": [
            "Average monthly spend for members: 272.21\n",
            "Average monthly spend for non-members: 266.32\n",
            "Difference between Q4 and Q1: 345.50\n",
            "Are all high spenders members? False\n"
          ]
        }
      ],
      "source": [
        "\n",
        "avg_spend_members=df[df[\"Is_Member\"]==1][\"Monthly_Spend\"].mean()\n",
        "avg_spend_nonmembers=df[df[\"Is_Member\"]==0][\"Monthly_Spend\"].mean()\n",
        "\n",
        "print(f\"Average monthly spend for members: {avg_spend_members:.2f}\")\n",
        "print(f\"Average monthly spend for non-members: {avg_spend_nonmembers:.2f}\")\n",
        "\n",
        "difference= 499.0-153.5\n",
        "print(f\"Difference between Q4 and Q1: {difference:.2f}\")\n",
        "\n",
        "threshold = df[\"Monthly_Spend\"].quantile(0.75)\n",
        "high_spenders = df[df[\"Monthly_Spend\"] >= threshold]\n",
        "all_members = high_spenders[\"Is_Member\"].min() == 1\n",
        "print(\"Are all high spenders members?\", all_members)\n",
        "\n",
        "\n"
      ]
    },
    {
      "cell_type": "code",
      "execution_count": 41,
      "metadata": {
        "id": "WNYfwKSQ54Kd"
      },
      "outputs": [
        {
          "data": {
            "image/png": "[encoded data removed]",
            "text/plain": [
              "<Figure size 640x480 with 1 Axes>"
            ]
          },
          "metadata": {},
          "output_type": "display_data"
        }
      ],
      "source": [
        "\n",
        "\n",
        "df[\"Spend_Category\"] = df[\"Monthly_Spend\"].apply(categorize_spend)\n",
        "\n",
        "\n",
        "category_counts = df[\"Spend_Category\"].value_counts().sort_index()\n",
        "\n",
        "plt.pie(\n",
        "    category_counts,\n",
        "    labels=category_counts.index,\n",
        "    autopct='%1.1f%%',\n",
        "    startangle=90,\n",
        "    colors=['skyblue', 'lightgreen', 'orange']\n",
        ")\n",
        "plt.title(\"Monthly Spend Distribution (25%-50%-25%)\")\n",
        "plt.show()\n"
      ]
    },
    {
      "cell_type": "code",
      "execution_count": null,
      "metadata": {},
      "outputs": [],
      "source": []
    }
  ],
  "metadata": {
    "colab": {
      "provenance": []
    },
    "kernelspec": {
      "display_name": "base",
      "language": "python",
      "name": "python3"
    },
    "language_info": {
      "codemirror_mode": {
        "name": "ipython",
        "version": 3
      },
      "file_extension": ".py",
      "mimetype": "text/x-python",
      "name": "python",
      "nbconvert_exporter": "python",
      "pygments_lexer": "ipython3",
      "version": "3.13.5"
    }
  },
  "nbformat": 4,
  "nbformat_minor": 0
}
